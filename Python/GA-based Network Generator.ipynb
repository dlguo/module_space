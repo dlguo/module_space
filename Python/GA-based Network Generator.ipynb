{
 "cells": [
  {
   "cell_type": "markdown",
   "metadata": {},
   "source": [
    "# Genetic Algorithm Based Network Generator\n",
    "Recently, we have more and more network (mostly undirected binary) generators are proposed to get synthetic network *similar* to target network(s). For instance, ERGM tries to get similar (weighted) graphlets structure, or dk-series tries to capture the distribution of graphlets. Some other more *heuristic* models take specific measures like *degree distribution*, *betweenness* as objectives and optimize the parameters. They get pretty good performance on some networks without too much knowledge. \n",
    "\n",
    "At the same time, I am thinking, although these models give pretty reasonable explanation on their parameterization and (sometimes) estimation, are they really indicating such *generating process*? So here I am working on a kinda *null model* for testing\n",
    "\n",
    "> If we evolve random networks towards some objectives(for now, measures), can we get selected networks similar to the target networks?\n",
    "\n",
    "Here I used word *selected* because such networks are evolved and selected based on fitness. You can also interpret this process (evolving and selecting) as synthesis of networks with parameter of objectives. That is, we don't parameterize the model, the measured objectives like degree/betweenness distribution are directly our parameters. The synthesis process is done by GA (searching).\n",
    "\n",
    "### Reason for GA\n",
    "- Finding networks is close to discrete optimization problems\n",
    "- GA has a mature framework for multi-objective optimization\n",
    "\n",
    "### Proposed Steps\n",
    "- [ ] single target network, single objective (KS of degree distribution)\n",
    "- [ ] single target network, multi-objective (degree, betweenness and clustering coefficient)\n",
    "- [ ] run this model on multiple networks (not sure)\n",
    "\n",
    "### Dataset\n",
    "In this project, I will use brain functional connectivity networks as dataset. General idea of this processing is introduced in [here][id1].\n",
    "\n",
    "## Reference\n",
    "[id1]: https://www.nature.com/articles/nrn2575 (Bullmore, Ed, and Olaf Sporns. \"Complex brain networks: graph theoretical analysis of structural and functional systems.\" Nature Reviews Neuroscience 10.3 (2009): 186.)"
   ]
  },
  {
   "cell_type": "code",
   "execution_count": null,
   "metadata": {},
   "outputs": [],
   "source": []
  }
 ],
 "metadata": {
  "kernelspec": {
   "display_name": "Python 3",
   "language": "python",
   "name": "python3"
  },
  "language_info": {
   "codemirror_mode": {
    "name": "ipython",
    "version": 3
   },
   "file_extension": ".py",
   "mimetype": "text/x-python",
   "name": "python",
   "nbconvert_exporter": "python",
   "pygments_lexer": "ipython3",
   "version": "3.7.0"
  }
 },
 "nbformat": 4,
 "nbformat_minor": 2
}
