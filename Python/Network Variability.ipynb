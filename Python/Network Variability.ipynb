{
 "cells": [
  {
   "cell_type": "markdown",
   "metadata": {},
   "source": [
    "Most network generative models focus on finding the \"distribution\" of a network that can generate the target network. In other words, the model should be able to generalize the regularity and variability of target network(s). However, up to now we still don't have a good understanding of the regularity and variability of networks even if we have samples of networks. There is no systematic way of analyzing \n",
    "\n",
    "Now we have many network generative model that can synthesize networks close to specific network. However, the distribution, especially the variability of networks is still unknown. Here we try to find a method to mimic the process of getting a network distribution close sample of networks.\n",
    "\n",
    "First, we need to get the network distribution. Let's try to map the resting-state FC networks into the space of *degree* $\\times$ *clustering coefficient*"
   ]
  },
  {
   "cell_type": "code",
   "execution_count": 5,
   "metadata": {},
   "outputs": [],
   "source": [
    "# import packages\n",
    "import numpy as np\n",
    "import matplotlib.pyplot as plt\n",
    "import os    # for files IO\n",
    "import pandas as pd    # for files IO and dataframe\n",
    "import networkx as nx\n",
    "import random\n",
    "\n",
    "from pandas_datareader import data    # for files IO\n",
    "from scipy.io import loadmat    # for files IO\n",
    "from sklearn.decomposition import PCA\n",
    "\n",
    "# function for loading TS\n",
    "def load_TS(data_loc, subj, sess):\n",
    "    TS_mat = loadmat(data_loc+'/results_SIFT2/'+subj+'/fMRI/'+sess+'/FC/TSz_glasser_GS_bp_z_subc.mat')\n",
    "    return TS_mat['TS_merged']\n",
    "\n",
    "# function for loading FC\n",
    "def load_FC(data_loc, subj, sess):\n",
    "    return np.loadtxt(open(data_loc+\"/HCP_100S_fMRI_FC/\"+subj+\"_\"+sess+\".csv\", \"rb\"), delimiter=\",\")\n",
    "\n",
    "# load the data from a random selected subject\n",
    "data_loc = os.environ['DATA']\n",
    "subj_list = np.array(os.listdir(data_loc+'/results_SIFT2/'))\n",
    "sess = 'rfMRI_REST1_LR'\n",
    "g_stat = np.empty((2,len(subj_list)), dtype=float)\n",
    "\n",
    "# check if dataset is successfully imported\n",
    "for i, subj in enumerate(subj_list):\n",
    "    corrmat = load_FC(data_loc, subj, sess)\n",
    "    cutoff = 0.2\n",
    "    corrmat[corrmat < cutoff] = 0\n",
    "    corrmat[np.eye(corrmat.shape[0],dtype=bool)] = 0\n",
    "    corrmat[corrmat > 0] = 1\n",
    "    G=nx.from_numpy_matrix(corrmat)\n",
    "    g_stat[0,i] = nx.density(G)\n",
    "    g_stat[1,i] = nx.transitivity(G)"
   ]
  },
  {
   "cell_type": "markdown",
   "metadata": {},
   "source": [
    "Let's take a look at the distribution of density and transitivity of the graphs."
   ]
  },
  {
   "cell_type": "code",
   "execution_count": 6,
   "metadata": {},
   "outputs": [
    {
     "data": {
      "image/png": "[encoded data removed]",
      "text/plain": [
       "<Figure size 504x504 with 1 Axes>"
      ]
     },
     "metadata": {
      "needs_background": "light"
     },
     "output_type": "display_data"
    }
   ],
   "source": [
    "plt.figure(figsize=(7,7))\n",
    "plt.axis('equal')\n",
    "plt.axis([0,1,0,1])\n",
    "plt.xlabel(\"density\")\n",
    "plt.ylabel(\"transitivity\")\n",
    "_ = plt.scatter(g_stat[0,:], g_stat[1,:], 2)"
   ]
  },
  {
   "cell_type": "markdown",
   "metadata": {},
   "source": [
    "Then let's try if we can estimate such distribution by subset of the networks as samples. First, we need to split the subjects into training set and test set."
   ]
  },
  {
   "cell_type": "code",
   "execution_count": null,
   "metadata": {},
   "outputs": [],
   "source": [
    "subj_ind = np.arange(len(subj_list))\n",
    "random.shuffle(subj_ind)\n",
    "train_ind = subj_ind[:int(.5*len(subj_list))]\n",
    "test_ind = subj_ind[int(.5*len(subj_list)):]"
   ]
  },
  {
   "cell_type": "code",
   "execution_count": null,
   "metadata": {},
   "outputs": [],
   "source": [
    "plt.figure(figsize=(7,7))\n",
    "plt.axis('equal')\n",
    "plt.axis([0,1,0,1])\n",
    "plt.xlabel(\"density\")\n",
    "plt.ylabel(\"transitivity\")\n",
    "_ = plt.scatter(g_stat[0,train_ind], g_stat[1,train_ind], 2, 'b')\n",
    "_ = plt.scatter(g_stat[0,test_ind], g_stat[1,test_ind], 2, 'r')"
   ]
  },
  {
   "cell_type": "code",
   "execution_count": null,
   "metadata": {},
   "outputs": [],
   "source": [
    "# check the mean network of training set\n",
    "mean_mat = np.zeros_like(corrmat)\n",
    "for subj_i in train_ind:\n",
    "    corrmat = load_FC(data_loc, subj_list[subj_i], sess)\n",
    "    corrmat[corrmat < cutoff] = 0\n",
    "    corrmat[np.eye(corrmat.shape[0],dtype=bool)] = 0\n",
    "    corrmat[corrmat > 0] = 1\n",
    "    mean_mat = mean_mat + corrmat\n",
    "mean_mat = np.round(mean_mat/len(train_ind))\n",
    "mean_G=nx.from_numpy_matrix(mean_mat)"
   ]
  },
  {
   "cell_type": "code",
   "execution_count": null,
   "metadata": {},
   "outputs": [],
   "source": [
    "# plot the ``mean'' graph\n",
    "plt.figure(figsize=(7,7))\n",
    "plt.axis('equal')\n",
    "plt.axis([0,1,0,1])\n",
    "plt.xlabel(\"density\")\n",
    "plt.ylabel(\"transitivity\")\n",
    "_ = plt.scatter(g_stat[0,train_ind], g_stat[1,train_ind], 2, 'b')\n",
    "_ = plt.scatter(nx.density(mean_G), nx.transitivity(mean_G), 10, 'r')"
   ]
  },
  {
   "cell_type": "markdown",
   "metadata": {},
   "source": [
    "From the plot above, obviously, algebraic mean can't be a good representative of the mean of sample networks(Of course, it would be a good representative of random networks). What if we directly take the average time series and get a correlation matrix?"
   ]
  },
  {
   "cell_type": "code",
   "execution_count": null,
   "metadata": {},
   "outputs": [],
   "source": [
    "ts = np.zeros((360,1200), dtype=float)\n",
    "for subj in subj_list[train_ind]:\n",
    "    ts += np.genfromtxt(\"/data/results_SIFT1/\"+subj+\"/fMRI/rfMRI_REST1_LR/rfMRI_REST1_LR_glasser_GS_bp_z_tseries.csv\", delimiter=',')\n",
    "corrmat = np.corrcoef(ts[:,5:(ts.shape[1]-5)])\n",
    "cutoff = 0.2\n",
    "corrmat[corrmat < cutoff] = 0\n",
    "corrmat[np.eye(corrmat.shape[0],dtype=bool)] = 0\n",
    "corrmat[corrmat > 0] = 1\n",
    "cmean_G = nx.from_numpy_matrix(corrmat)"
   ]
  },
  {
   "cell_type": "code",
   "execution_count": null,
   "metadata": {},
   "outputs": [],
   "source": [
    "# plot the ``mean'' graph\n",
    "plt.figure(figsize=(7,7))\n",
    "plt.axis('equal')\n",
    "plt.axis([0,1,0,1])\n",
    "plt.xlabel(\"density\")\n",
    "plt.ylabel(\"transitivity\")\n",
    "_ = plt.scatter(g_stat[0,train_ind], g_stat[1,train_ind], 2, 'grey')\n",
    "_ = plt.scatter(nx.density(mean_G), nx.transitivity(mean_G), 10, 'r')\n",
    "_ = plt.scatter(nx.density(cmean_G), nx.transitivity(cmean_G), 10, 'b')\n"
   ]
  },
  {
   "cell_type": "markdown",
   "metadata": {},
   "source": [
    "This can be easily interpreted. The averaged time series will have less variability so the density of the *mean* network will be sparser. Let's try this from a different angel of removing the variability. That might be done by PCA."
   ]
  },
  {
   "cell_type": "code",
   "execution_count": null,
   "metadata": {},
   "outputs": [],
   "source": [
    "mega_data = np.empty((len(train_ind), int(N*(N-1)/2)))\n",
    "mega_bin_data = np.empty((len(train_ind), int(N*(N-1)/2)))\n",
    "for i, subj in enumerate(subj_list[train_ind]):\n",
    "    corrmat = load_FC(data_loc, subj, sess)\n",
    "    mega_data[i,:] = corrmat[np.tril_indices(N, k=-1)]\n",
    "    cutoff = 0.2\n",
    "    corrmat[corrmat < cutoff] = 0\n",
    "    corrmat[np.eye(corrmat.shape[0],dtype=bool)] = 0\n",
    "    corrmat[corrmat > 0] = 1\n",
    "    mega_bin_data[i,:] = corrmat[np.tril_indices(N, k=-1)]\n"
   ]
  },
  {
   "cell_type": "code",
   "execution_count": null,
   "metadata": {},
   "outputs": [],
   "source": [
    "pca = PCA(n_components=50)\n",
    "pca.fit(mega_data)\n",
    "trans_data = pca.inverse_transform(pca.fit_transform(mega_data))\n",
    "trans_g_stat = np.empty((2,len(train_ind)), dtype=float)\n",
    "\n",
    "plt.plot(np.cumsum(pca.explained_variance_ratio_))"
   ]
  },
  {
   "cell_type": "code",
   "execution_count": null,
   "metadata": {},
   "outputs": [],
   "source": [
    "pca = PCA(n_components=1)\n",
    "pca.fit(mega_data)\n",
    "trans_data = pca.inverse_transform(pca.fit_transform(mega_data))\n",
    "trans_g_stat = np.empty((2,len(train_ind)), dtype=float)\n",
    "\n",
    "for i, subj in enumerate(subj_list[train_ind]):\n",
    "    corrmat = mat_from_list(np.transpose(trans_data[i,:]))\n",
    "    cutoff = 0.2\n",
    "    corrmat[corrmat < cutoff] = 0\n",
    "    corrmat[np.eye(corrmat.shape[0],dtype=bool)] = 0\n",
    "    corrmat[corrmat > 0] = 1\n",
    "    G = nx.from_numpy_matrix(corrmat)\n",
    "    trans_g_stat[0,i] = nx.density(G)\n",
    "    trans_g_stat[1,i] = nx.transitivity(G)\n",
    "    \n",
    "# plot the ``mean'' graph\n",
    "plt.figure(figsize=(7,7))\n",
    "plt.axis('equal')\n",
    "plt.axis([0,1,0,1])\n",
    "plt.xlabel(\"density\")\n",
    "plt.ylabel(\"transitivity\")\n",
    "plt.xlim(0,.5)\n",
    "plt.ylim(.3, .8)\n",
    "_ = plt.scatter(g_stat[0,train_ind], g_stat[1,train_ind], 2, 'b')\n",
    "_ = plt.scatter(nx.density(mean_G), nx.transitivity(mean_G), 30, 'c', 'x')\n",
    "_ = plt.scatter(nx.density(cmean_G), nx.transitivity(cmean_G), 30, 'm', 'x')\n",
    "_ = plt.scatter(trans_g_stat[0,:], trans_g_stat[1,:], 2, 'r')\n"
   ]
  },
  {
   "cell_type": "code",
   "execution_count": null,
   "metadata": {},
   "outputs": [],
   "source": [
    "pca = PCA(n_components=30)\n",
    "pca.fit(mega_data)\n",
    "trans_data = pca.inverse_transform(pca.fit_transform(mega_data))\n",
    "trans_g_stat = np.empty((2,len(train_ind)), dtype=float)\n",
    "\n",
    "for i, subj in enumerate(subj_list[train_ind]):\n",
    "    corrmat = mat_from_list(np.transpose(trans_data[i,:]))\n",
    "    cutoff = 0.2\n",
    "    corrmat[corrmat < cutoff] = 0\n",
    "    corrmat[np.eye(corrmat.shape[0],dtype=bool)] = 0\n",
    "    corrmat[corrmat > 0] = 1\n",
    "    G = nx.from_numpy_matrix(corrmat)\n",
    "    trans_g_stat[0,i] = nx.density(G)\n",
    "    trans_g_stat[1,i] = nx.transitivity(G)\n",
    "    \n",
    "# plot the ``mean'' graph\n",
    "plt.figure(figsize=(7,7))\n",
    "plt.axis('equal')\n",
    "plt.axis([0,1,0,1])\n",
    "plt.xlabel(\"density\")\n",
    "plt.ylabel(\"transitivity\")\n",
    "plt.xlim(0,.5)\n",
    "plt.ylim(.3, .8)\n",
    "_ = plt.scatter(g_stat[0,train_ind], g_stat[1,train_ind], 2, 'b')\n",
    "_ = plt.scatter(nx.density(mean_G), nx.transitivity(mean_G), 30, 'c', 'x')\n",
    "_ = plt.scatter(nx.density(cmean_G), nx.transitivity(cmean_G), 30, 'm', 'x')\n",
    "_ = plt.scatter(trans_g_stat[0,:], trans_g_stat[1,:], 2, 'r')\n"
   ]
  },
  {
   "cell_type": "markdown",
   "metadata": {},
   "source": [
    "So we are curious if we can capture the variance. Let's check the distribution of the variance."
   ]
  },
  {
   "cell_type": "code",
   "execution_count": null,
   "metadata": {},
   "outputs": [],
   "source": [
    "pca = PCA(n_components=50)\n",
    "pca.fit(mega_bin_data)\n",
    "trans_data = pca.inverse_transform(pca.fit_transform(mega_bin_data))\n",
    "trans_g_stat = np.empty((2,len(train_ind)), dtype=float)\n",
    "\n"
   ]
  }
 ],
 "metadata": {
  "kernelspec": {
   "display_name": "Python 3",
   "language": "python",
   "name": "python3"
  },
  "language_info": {
   "codemirror_mode": {
    "name": "ipython",
    "version": 3
   },
   "file_extension": ".py",
   "mimetype": "text/x-python",
   "name": "python",
   "nbconvert_exporter": "python",
   "pygments_lexer": "ipython3",
   "version": "3.7.1"
  }
 },
 "nbformat": 4,
 "nbformat_minor": 2
}
