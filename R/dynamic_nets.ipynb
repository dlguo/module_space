{
 "cells": [
  {
   "cell_type": "markdown",
   "metadata": {},
   "source": [
    "# Dynamic brain networks\n",
    "This project currently is only a experimental project for finding interesting patterns of dynamic brain functional networks. The data used here is **dynamic FC series** therefore all analysis is based on the dynamics of brain network series. The network series is generated from the Pearson correlation between 360 ROIs (Glasser's parcellation)\n",
    "\n",
    "Here are some targets for this research:\n",
    "- [ ] Basic FC series dynamics\n",
    "- [ ] Modular dynamics\n",
    "- [ ] Entropy analysis\n",
    "\n",
    "## Data description\n",
    "All data used here is from HCP 900 subjects. There are 100 randomly picked subjects in this dataset and 2 resting-state scan sessions(4 fMRI time courses) and 7 task sessions(14 fMRI) are done w/ them. The protocol are listed as below:\n",
    "\n",
    "Condition | Runs | Frames per run | Run Duration (min:sec) \n",
    "--- | --- | ---\n",
    "REST (Resting-state) | 4 | 1200 | 14:33 \n",
    "Working Memory | 2 | 405 | 5:01\n",
    "Gambling | 2 | 253 | 3:12\n",
    "Motor | 2 | 284 | 3:34\n",
    "Language | 2 | 316 | 3:57\n",
    "Social Cognition | 2 | 274 | 3:27\n",
    "Relational Processing | 2 | 232 | 2:56\n",
    "Emotion Processing | 2 | 176 | 2:16\n",
    "\n",
    "## Prepare the data\n",
    "Because network series data is very huge, we can only do experiments on small section of subjects. Here we picked 4 subjects and try to learn from these data."
   ]
  },
  {
   "cell_type": "code",
   "execution_count": 2,
   "metadata": {},
   "outputs": [
    {
     "name": "stdout",
     "output_type": "stream",
     "text": [
      "[1] 12\n"
     ]
    }
   ],
   "source": [
    "# \n",
    "subj_list <- c(\"123925\", \"125525\", \"122620\", \"245333\")\n",
    "rsn_names <- c('visual', 'motor', 'da', 'va', 'limbic', 'fp', 'DMN', 'sub')\n",
    "sess_list <- list.files('/data/results_SIFT2/120111/fMRI/')[11:12]"
   ]
  }
 ],
 "metadata": {
  "kernelspec": {
   "display_name": "R",
   "language": "R",
   "name": "ir"
  },
  "language_info": {
   "codemirror_mode": "r",
   "file_extension": ".r",
   "mimetype": "text/x-r-source",
   "name": "R",
   "pygments_lexer": "r",
   "version": "3.5.1"
  }
 },
 "nbformat": 4,
 "nbformat_minor": 2
}
