{
 "cells": [
  {
   "cell_type": "markdown",
   "metadata": {},
   "source": [
    "# Dynamic brain networks\n",
    "\n",
    "This project currently is only a experimental project for finding interesting patterns of dynamic brain functional networks. The data used here is **dynamic FC series** therefore all analysis is based on the dynamics of brain network series. The network series is generated from the Pearson correlation between 360 ROIs (Glasser's parcellation)\n",
    "\n",
    "Here are some targets for this research:\n",
    "- [ ] Basic FC series dynamics\n",
    "- [ ] Modular dynamics\n",
    "- [ ] Entropy analysis\n"
   ]
  },
  {
   "cell_type": "code",
   "execution_count": null,
   "metadata": {},
   "outputs": [],
   "source": []
  }
 ],
 "metadata": {
  "kernelspec": {
   "display_name": "R",
   "language": "R",
   "name": "ir"
  },
  "language_info": {
   "codemirror_mode": "r",
   "file_extension": ".r",
   "mimetype": "text/x-r-source",
   "name": "R",
   "pygments_lexer": "r",
   "version": "3.5.1"
  }
 },
 "nbformat": 4,
 "nbformat_minor": 2
}
